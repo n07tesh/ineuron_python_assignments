{
  "nbformat": 4,
  "nbformat_minor": 0,
  "metadata": {
    "colab": {
      "provenance": []
    },
    "kernelspec": {
      "name": "python3",
      "display_name": "Python 3"
    },
    "language_info": {
      "name": "python"
    }
  },
  "cells": [
    {
      "cell_type": "markdown",
      "source": [
        "1. What is the name of the feature responsible for generating Regex objects?\n",
        "\n",
        "  The re module is responsible for generating Regex objects. The re module provides support for regular expressions (regex) in Python, which can be used to search, replace, and manipulate strings based on patterns.\n",
        "\n"
      ],
      "metadata": {
        "id": "atYxnQBS_Kzk"
      }
    },
    {
      "cell_type": "markdown",
      "source": [
        "2. Why do raw strings often appear in Regex objects?\n",
        "\n",
        "Ans Raw strings often appear in Regex objects because regular expressions often contain backslashes (\\) and other special characters that have special meanings in Python strings.\n",
        "\n",
        "For example, the regular expression pattern **\\d matches any digit character**, and the regular expression pattern **\\s matches any whitespace character**. However, the backslash character (\\) is also used as an escape character in Python strings to represent special characters like **newlines (\\n) and tabs (\\t)**."
      ],
      "metadata": {
        "id": "j50PEzaM_ci3"
      }
    },
    {
      "cell_type": "markdown",
      "source": [
        "3. What is the return value of the search() method?\n",
        "\n",
        " The search() method returns a match object that contains information about the match."
      ],
      "metadata": {
        "id": "vP8oLmz3_fZs"
      }
    },
    {
      "cell_type": "markdown",
      "source": [
        "4. From a Match item, how do you get the actual strings that match the pattern?\n",
        "\n",
        "  Once you have a match object from a regular expression search in Python, you can use various methods to extract the actual strings that match the pattern.\n",
        "\n",
        "  The group() method of the match object is used to retrieve the actual string that matches the pattern. If the regular expression pattern contains groups (specified by parentheses), the group() method can also be used to retrieve the matching strings for each group."
      ],
      "metadata": {
        "id": "_XgzBS16_hln"
      }
    },
    {
      "cell_type": "markdown",
      "source": [
        "5. In the regex which created from the r'(\\d\\d\\d)-(\\d\\d\\d-\\d\\d\\d\\d)', what does group zero cover? Group 2? Group 1?\n",
        "\n",
        "  **Group 0** covers the entire match. This means that it includes the matched text for both groups combined, as well as any other characters that may appear in the match.\n",
        "\n",
        "  **Group 1** covers the first three digits (represented by \\d\\d\\d) in the pattern.\n",
        "\n",
        "  **Group 2** covers the remaining seven digits (represented by \\d\\d\\d-\\d\\d\\d\\d) in the pattern (\\d\\d\\d)-(\\d\\d\\d-\\d\\d\\d\\d).\n",
        "\n"
      ],
      "metadata": {
        "id": "RNswRIeS_j39"
      }
    },
    {
      "cell_type": "markdown",
      "source": [
        "6. In standard expression syntax, parentheses and intervals have distinct meanings. How can you tell a regex that you want it to fit real parentheses and periods?\n",
        "\n",
        "  To match real parentheses ( and ), we can use the escaped parentheses **\\\\( and \\)** in regular expression pattern.\n",
        "\n",
        "  Similarly, to match a literal period ., we can escape it as **\\\\.**\n",
        "\n",
        "\n"
      ],
      "metadata": {
        "id": "XPsyWrXi_lt9"
      }
    },
    {
      "cell_type": "markdown",
      "source": [
        "7. The findall() method returns a string list or a list of string tuples. What causes it to return one of the two options?\n",
        "\n",
        " The **findall() returns a list of tuples**. Each tuple contains the substrings matched by the capturing groups. If there is only one capturing group, each tuple contains a single string.\n",
        "\n"
      ],
      "metadata": {
        "id": "WL1TfoHj_nqb"
      }
    },
    {
      "cell_type": "markdown",
      "source": [
        "8. In standard expressions, what does the | character mean?\n",
        "\n",
        " The pattern **r\"cat|dog\"** to find all occurrences of either the string \"cat\" or the string \"dog\" in the input string. The findall() method returns a list of all matches found, which in this case are the strings \"cat\" and \"dog\"."
      ],
      "metadata": {
        "id": "XnC0HPgi_pzV"
      }
    },
    {
      "cell_type": "markdown",
      "source": [
        "9. In regular expressions, what does the character stand for?\n",
        "\n",
        "All characters, except those having special meaning in regex, matches themselves. E.g., the regex x matches substring \"x\"; regex 9 matches \"9\"; regex = matches \"=\"; and regex @ matches \"@\".\n"
      ],
      "metadata": {
        "id": "zkKAyAIH_sfD"
      }
    },
    {
      "cell_type": "markdown",
      "source": [
        "10.In regular expressions, what is the difference between the + and * characters?\n",
        "\n",
        "The **+ character** matches one or more occurrences of the preceding character or group of characters. For example, the regular expression pattern a+ matches one or more occurrences of the letter \"a\". This means that the pattern would match strings like \"a\", \"aa\", \"aaa\", and so on.\n",
        "\n",
        "The **(*) character**  bold text matches zero or more occurrences of the preceding character or group of characters. For example, the regular expression pattern a* matches zero or more occurrences of the letter \"a\". This means that the pattern would match strings like \"\", \"a\", \"aa\", \"aaa\", and so on.\n"
      ],
      "metadata": {
        "id": "s0RN9IyC_ua2"
      }
    },
    {
      "cell_type": "markdown",
      "source": [
        "11. What is the difference between {4} and {4,5} in regular expression?\n",
        "\n",
        "  The expression {4} matches exactly 4 occurrences of the preceding character or group of characters. For example, the pattern a{4} would match the string \"aaaa\" but not \"aa\" or \"aaaaa\".\n",
        "\n",
        "  The expression {4,5} matches between 4 and 5 occurrences of the preceding character or group of characters. For example, the pattern a{4,5} would match the strings \"aaaa\" and \"aaaaa\", but not \"aa\" or \"aaaaaaaa\".\n",
        "\n",
        "  import re\n",
        "\n",
        "  text = \"aaaa aaaa aaaaa aaaaaa\"\n",
        "\n",
        "  pattern1 = r\"a{4}\"     # Matches exactly 4 \"a\"s\n",
        "\n",
        "  pattern2 = r\"a{4,5}\"   # Matches between 4 and 5 \"a\"s\n",
        "\n",
        "  matches1 = re.findall(pattern1, text)\n",
        "\n",
        "  matches2 = re.findall(pattern2, text)\n",
        "\n",
        "  print(matches1)   # Output: ['aaaa', 'aaaa']\n",
        "\n",
        "  print(matches2)   # Output: ['aaaa', 'aaaa', 'aaaaa', 'aaaaa']\n",
        "\n"
      ],
      "metadata": {
        "id": "aFPzRAaY_w_g"
      }
    },
    {
      "cell_type": "markdown",
      "source": [
        "12. What do you mean by the \\d, \\w, and \\s shorthand character classes signify in regular expressions?\n",
        "\n",
        " **\\d:** Matches any digit character (equivalent to [0-9]).\n",
        "\n",
        "  **\\w:** Matches any word character, which includes digits, letters, and underscores (equivalent to [a-zA-Z0-9_]).\n",
        "\n",
        "  **\\s:** Matches any whitespace character, including spaces, tabs, and newlines."
      ],
      "metadata": {
        "id": "guZuJ1Nr_zF8"
      }
    },
    {
      "cell_type": "markdown",
      "source": [
        "13. What do means by \\D, \\W, and \\S shorthand character classes signify in regular expressions?\n",
        "\n",
        "  **\\D:** Matches any non-digit character (equivalent to [^0-9]).\n",
        "\n",
        "  **\\W:** Matches any non-word character (equivalent to [^a-zA-Z0-9_]).\n",
        "\n",
        "  **\\S:** Matches any non-whitespace character."
      ],
      "metadata": {
        "id": "UEtBA21Y_1RP"
      }
    },
    {
      "cell_type": "markdown",
      "source": [
        "14. What is the difference between .**? and .*?\n",
        "\n",
        "   The .*?  pattern matches any character (except for a newline) zero or more times, but it does so in a non-greedy or lazy way, meaning it matches as few characters as possible.\n",
        "\n",
        "    The .*  is a pattern that matches any character (except for a newline) zero or more times, in a greedy way. This means that it matches as many characters as possible until it reaches the end of the string or the next pattern.\n",
        "\n",
        "\n",
        "\n"
      ],
      "metadata": {
        "id": "-r60zQFM_4cy"
      }
    },
    {
      "cell_type": "markdown",
      "source": [
        "15. What is the syntax for matching both numbers and lowercase letters with a character class?\n",
        "\n",
        "  To match both numbers and lowercase letters using a character class in regular expressions, we can use the shorthand character class \\w. This character class matches any \"word\" character, which includes lowercase letters, digits, and underscores.\n",
        "\n"
      ],
      "metadata": {
        "id": "f4x0Mlag_8Lq"
      }
    },
    {
      "cell_type": "markdown",
      "source": [
        "16. What is the procedure for making a normal expression in regax case insensitive?\n",
        "\n",
        "  To make a regular expression in regex case-insensitive, you can use the **re.IGNORECASE** or **re.I** flag when compiling the pattern.\n"
      ],
      "metadata": {
        "id": "u09Jkamd__kp"
      }
    },
    {
      "cell_type": "markdown",
      "source": [
        "17. What does the . character normally match? What does it match if re.DOTALL is passed as 2nd argument in re.compile()?\n",
        "\n",
        "  If you pass the re.DOTALL (or re.S) flag as the second argument to re.compile(), it changes the behavior of the . character to match any character including the newline character. This can be useful in cases where you want to match a pattern across multiple lines in a string.\n"
      ],
      "metadata": {
        "id": "ywtoV4RSABzI"
      }
    },
    {
      "cell_type": "markdown",
      "source": [
        "18. If numReg = re.compile(r'\\d+'), what will numRegex.sub('X', '11 drummers, 10 pipers, five rings, 4 hen') return?\n",
        "\n",
        "  The pattern '\\d+' matches one or more digits in a string.\n",
        "\n",
        "  numRegex.sub('X', '11 drummers, 10 pipers, five rings, 4 hen') replaces all occurrences of the pattern '\\d+' in the input string with the character 'X', which results in a modified string where all numbers are replaced with 'X'."
      ],
      "metadata": {
        "id": "O3rQrS13AEcq"
      }
    },
    {
      "cell_type": "markdown",
      "source": [
        "19. What does passing re.VERBOSE as the 2nd argument to re.compile() allow to do?\n",
        "\n",
        "  This flag allows you to write regular expressions that look nicer and are more readable by allowing you to visually separate logical sections of the pattern and add comments.\n",
        "\n",
        "  regex_email = re.compile(r\"\"\"\n",
        "            ^([a-z0-9_\\.-]+)              # local Part\n",
        "            @                             # single @ sign\n",
        "            ([0-9a-z\\.-]+)                # Domain name\n",
        "            \\.                            # single Dot .\n",
        "            ([a-z]{2,6})$                 # Top level Domain  \n",
        "             \"\"\",re.VERBOSE | re.IGNORECASE)"
      ],
      "metadata": {
        "id": "BXZqGnWmAHNl"
      }
    },
    {
      "cell_type": "markdown",
      "source": [
        "20. How would you write a regex that match a number with comma for every three digits? It must match the given following:\n",
        "\n",
        "  '42'\n",
        "\n",
        "  '1,234'\n",
        "\n",
        "  '6,368,745'\n",
        "\n",
        "  but not the following:\n",
        "\n",
        "  '12,34,567' (which has only two digits between the commas)\n",
        "\n",
        "  '1234' (which lacks commas)\n",
        "  "
      ],
      "metadata": {
        "id": "TNRvmcnDANAP"
      }
    },
    {
      "cell_type": "code",
      "source": [
        "import re\n",
        "pattern = re.compile(r'^\\d{1,3}(,\\d{3})*$')\n",
        "\n",
        "print(pattern.match('42'))           \n",
        "print(pattern.match('1,234'))       \n",
        "print(pattern.match('6,368,745')) \n",
        "\n",
        "pattern = re.compile(r'\\d{1,2},(,\\d{2})*$')\n",
        "print(pattern.match('12,34,567'))\n",
        "print(pattern.match('1234'))\n"
      ],
      "metadata": {
        "colab": {
          "base_uri": "https://localhost:8080/"
        },
        "id": "TY6qaM7xtWqk",
        "outputId": "422ceeaf-f999-4e0d-8ed2-6e10b26312c1"
      },
      "execution_count": 4,
      "outputs": [
        {
          "output_type": "stream",
          "name": "stdout",
          "text": [
            "<re.Match object; span=(0, 2), match='42'>\n",
            "<re.Match object; span=(0, 5), match='1,234'>\n",
            "<re.Match object; span=(0, 9), match='6,368,745'>\n",
            "None\n",
            "None\n"
          ]
        }
      ]
    },
    {
      "cell_type": "markdown",
      "source": [
        "21. How would you write a regex that matches the full name of someone whose last name is Watanabe? You can assume that the first name that comes before it will always be one word that begins with a capital letter. The regex must match the following:\n",
        "\n",
        "  'Haruto Watanabe'\n",
        "\n",
        "  'Alice Watanabe'\n",
        "\n",
        "  'RoboCop Watanabe'\n",
        "\n",
        "  but not the following:\n",
        "\n",
        "  'haruto Watanabe' (where the first name is not capitalized)\n",
        "\n",
        "  'Mr. Watanabe' (where the preceding word has a nonletter character)\n",
        "\n",
        "  'Watanabe' (which has no first name)\n",
        "  \n",
        "  'Haruto watanabe' (where Watanabe is not capitalized)"
      ],
      "metadata": {
        "id": "6NIVDuo8AaBL"
      }
    },
    {
      "cell_type": "code",
      "source": [
        "import re\n",
        "pattern = re.compile(r'[A-Za-z]{2,25}\\s[A-Za-z]{2,25}')\n",
        "\n",
        "print(pattern.match('Haruto Watanabe'))     \n",
        "print(pattern.match('Alice Watanabe')) \n",
        "print(pattern.match('RoboCop Watanabe'))\n",
        "print(pattern.match('Watanabe'))\n",
        "\n",
        "\n",
        "pattern = re.compile(r'[a-zA-Z]{2,25}\\s[A-Za-z]{2,25}')\n",
        "print(pattern.match('haruto Watanabe'))\n",
        "\n",
        "#'Haruto watanabe' (where Watanabe is not capitalized)\n",
        "pattern = re.compile(r'[A-Za-z]{2,25}\\s[a-zA-Z]{2,25}')\n",
        "print(pattern.match('Haruto watanabe'))\n",
        "\n",
        "\n",
        "\n",
        "\n",
        "\n"
      ],
      "metadata": {
        "colab": {
          "base_uri": "https://localhost:8080/"
        },
        "id": "jAvYKOxHuyU1",
        "outputId": "2e0c9a81-f10e-4fd2-e39b-14e0bdc05475"
      },
      "execution_count": 15,
      "outputs": [
        {
          "output_type": "stream",
          "name": "stdout",
          "text": [
            "<re.Match object; span=(0, 15), match='Haruto Watanabe'>\n",
            "<re.Match object; span=(0, 14), match='Alice Watanabe'>\n",
            "<re.Match object; span=(0, 16), match='RoboCop Watanabe'>\n",
            "None\n",
            "<re.Match object; span=(0, 15), match='haruto Watanabe'>\n",
            "<re.Match object; span=(0, 15), match='Haruto watanabe'>\n"
          ]
        }
      ]
    }
  ]
}