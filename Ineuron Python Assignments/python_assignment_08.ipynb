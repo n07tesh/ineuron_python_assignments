{
  "nbformat": 4,
  "nbformat_minor": 0,
  "metadata": {
    "colab": {
      "provenance": []
    },
    "kernelspec": {
      "name": "python3",
      "display_name": "Python 3"
    },
    "language_info": {
      "name": "python"
    }
  },
  "cells": [
    {
      "cell_type": "markdown",
      "source": [
        "1. Is the Python Standard Library included with PyInputPlus?\n",
        "\n",
        "   Yes, the Python Standard Library included with PyInputPlus.\n"
      ],
      "metadata": {
        "id": "XCuwlNmRmUES"
      }
    },
    {
      "cell_type": "markdown",
      "source": [
        "2. Why is PyInputPlus commonly imported with import pyinputplus as pypi?\n",
        "\n",
        "  PyInputPlus is commonly imported with import pyinputplus as pypi to make it easier to reference PyInputPlus functions and classes within the code. The as pypi part of the import statement creates an alias or nickname for the pyinputplus module, allowing the programmer to refer to it with a shorter name. This can make the code shorter and more readable, especially when using PyInputPlus functions and classes frequently throughout the code.\n"
      ],
      "metadata": {
        "id": "_cWOBWtwmVy_"
      }
    },
    {
      "cell_type": "markdown",
      "source": [
        "3. How do you distinguish between inputInt() and inputFloat()?\n",
        "\n",
        "   The inputInt() and inputFloat() functions are both part of the PyInputPlus module, which is used for taking input from users with additional validation and features. The inputInt() function is used to accept input from the user, and it ensures that the input is an integer. On the other hand, the inputFloat() function is used to accept input from the user, and it ensures that the input is a float. In short, inputInt() is used for integers, and inputFloat() is used for floating-point numbers.\n",
        "   "
      ],
      "metadata": {
        "id": "0Dpm7PnDmjiw"
      }
    },
    {
      "cell_type": "markdown",
      "source": [
        "4. Using PyInputPlus, how do you ensure that the user enters a whole number between 0 and 99?\n",
        "\n",
        "  The inputInt() function from PyInputPlus along with the min and max parameters to ensure that the user enters a whole number between 0 and 99.\n"
      ],
      "metadata": {
        "id": "YWg-07bHmm9k"
      }
    },
    {
      "cell_type": "markdown",
      "source": [
        "5. What is transferred to the keyword arguments allowRegexes and blockRegexes?\n",
        "\n",
        "  The allowRegexes and blockRegexes keyword arguments in PyInputPlus are used to transfer a list of regular expression strings. The allowRegexes argument takes a list of regular expressions that the input must match, while the blockRegexes argument takes a list of regular expressions that the input must not match."
      ],
      "metadata": {
        "id": "TfTD9zMxmpDo"
      }
    },
    {
      "cell_type": "markdown",
      "source": [
        "6. If a blank input is entered three times, what does inputStr(limit=3) do?\n",
        "\n",
        "  If a blank input is entered three times, inputStr(limit=3) will raise a TimeoutException since the maximum number of retries has been reached. The default value for the timeout parameter is None, which means that there is no limit on the number of retries. However, by setting the limit parameter to a specific value, you can specify the maximum number of retries that are allowed before a TimeoutException is raised.\n",
        "\n",
        "  inputStr(limit=3, default='default value')\n"
      ],
      "metadata": {
        "id": "bM8Iu2O5mrKL"
      }
    },
    {
      "cell_type": "markdown",
      "source": [
        "7. If blank input is entered three times, what does inputStr(limit=3, default='hello') do?\n",
        "\n",
        "  If a blank input is entered three times when using inputStr(limit=3, default='hello'), the function will return the default value, which is 'hello'."
      ],
      "metadata": {
        "id": "GyDc6Letmxgi"
      }
    }
  ]
}