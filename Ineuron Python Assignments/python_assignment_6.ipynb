{
  "nbformat": 4,
  "nbformat_minor": 0,
  "metadata": {
    "colab": {
      "provenance": []
    },
    "kernelspec": {
      "name": "python3",
      "display_name": "Python 3"
    },
    "language_info": {
      "name": "python"
    }
  },
  "cells": [
    {
      "cell_type": "markdown",
      "source": [
        "1. What are escape characters, and how do you use them?\n",
        "\n",
        "Ans Escape characters are special characters that are used to represent specific characters in a string or text that would otherwise be difficult or impossible to represent directly. They are usually represented by a backslash character () followed by a specific letter or combination of characters.\n",
        "and we use them,the newline character, which is used to insert a line break in a text, can be represented by the escape sequence \"\\n\". Similarly, the tab character can be represented by \"\\t\", the backslash character itself by \"\\\" and the double quote character by \"\"\".\n",
        "\n",
        "\n",
        "These are some escape examples:-\n",
        "\n",
        "\n",
        "\\'\tSingle Quote\t\n",
        "\\\\\tBackslash\t\n",
        "\\n\tNew Line"
      ],
      "metadata": {
        "id": "rhGF7P3UHLAT"
      }
    },
    {
      "cell_type": "markdown",
      "source": [
        "2. What do the escape characters n and t stand for?\n",
        "\n",
        "Ans The **\"\\n\"** is used to indicate the end of a line and the beginning of a new one. When this character is encountered in a string, it tells the program to move the cursor to the beginning of the next line.\n",
        "\n",
        "And,**\"\\t\"** is used to insert a horizontal tab or a space between text. It is often used to format data in a way that makes it more readable or to align text in columns. When this character is encountered in a string, it tells the program to move the cursor to the next tab stop or to insert a space.\n"
      ],
      "metadata": {
        "id": "-698CW3ScZpM"
      }
    },
    {
      "cell_type": "markdown",
      "source": [
        "3. What is the way to include backslash characters in a string?\n",
        "\n",
        "Ans The backslash as an escape character. To include a backslash in a string, you can use a double backslash (\"\\\") which will be interpreted as a single backslash."
      ],
      "metadata": {
        "id": "ls5TNs3l2WEV"
      }
    },
    {
      "cell_type": "markdown",
      "source": [
        "4. The string \"Howl's Moving Castle\" is a correct value. Why isn't the single quote character in the word Howl's not escaped a problem?\n",
        "\n",
        "Ans. A string can be delimited by either single quotes ('...') or double quotes (\"...\"). So, in this case, since the string \"Howl's Moving Castle\" is delimited by double quotes, it's okay to include an unescaped single quote character within the string.\n",
        "\n"
      ],
      "metadata": {
        "id": "ePpmuNFc2ZSs"
      }
    },
    {
      "cell_type": "code",
      "source": [
        "x = \"Howl's Moving Castle\"\n",
        "print(x)"
      ],
      "metadata": {
        "colab": {
          "base_uri": "https://localhost:8080/"
        },
        "id": "LqplKP2B4ww0",
        "outputId": "1ff8ad3a-f85b-4bcd-aa69-0adb2abddbcd"
      },
      "execution_count": 1,
      "outputs": [
        {
          "output_type": "stream",
          "name": "stdout",
          "text": [
            "Howl's Moving Castle\n"
          ]
        }
      ]
    },
    {
      "cell_type": "markdown",
      "source": [
        "5. How do you write a string of newlines if you don't want to use the n character?\n",
        "\n",
        "If you don't want to use the \"\\n\" character to represent a newline in a string, you can use the string concatenation operator \"+\" to combine multiple strings, each representing a separate line.\n",
        "\n",
        "\n"
      ],
      "metadata": {
        "id": "RA7IY8Lr2b4L"
      }
    },
    {
      "cell_type": "markdown",
      "source": [
        "6. What are the values of the given expressions?\n",
        "\n",
        "  'Hello, world!'[1] ==> e\n",
        "\n",
        "  'Hello, world!'[0:5] ==> Hello\n",
        "\n",
        "  'Hello, world!'[:5] ==> Hello\n",
        "\n",
        "  'Hello, world!'[3:] ==> lo, world!\n"
      ],
      "metadata": {
        "id": "o69yuVaH2eRC"
      }
    },
    {
      "cell_type": "markdown",
      "source": [
        "7. What are the values of the following expressions?\n",
        "\n",
        "  'Hello'.upper() ==> HELLO\n",
        "\n",
        "  'Hello'.upper().isupper() ==> True\n",
        "\n",
        "  'Hello'.upper().lower() ==> False\n"
      ],
      "metadata": {
        "id": "4_LsgMMI2o3M"
      }
    },
    {
      "cell_type": "markdown",
      "source": [
        "8. What are the values of the following expressions?\n",
        "\n",
        "  'Remember, remember, the fifth of July.'.split() ==> ['Remember','remember','the','fifth','of','July']\n",
        " \n",
        "\n",
        "  '-'.join('There can only one.'.split()) ==> 'There-can-only-one.'\n",
        "\n",
        "\n"
      ],
      "metadata": {
        "id": "AwfVVZ-Z2yw_"
      }
    },
    {
      "cell_type": "markdown",
      "source": [
        "  9. What are the methods for right-justifying, left-justifying, and centering a string?\n",
        " \n",
        " Ans ljust() method: This method is used to left-justify a string by adding padding spaces to the right of the string until it reaches the specified width.\n",
        " \n",
        " rjust() method: This method is used to right-justify a string by adding padding spaces to the left of the string until it reaches the specified width.\n",
        "\n",
        " center() method: This method is used to center a string by adding padding spaces to both sides of the string until it reaches the specified width.\n",
        "\n"
      ],
      "metadata": {
        "id": "V3207ujQ26hA"
      }
    },
    {
      "cell_type": "code",
      "source": [
        "#ljust()\n",
        "string = \"hello\"\n",
        "width = 10\n",
        "result = string.ljust(width)\n",
        "print(result)\n",
        "\n",
        "#rjust()\n",
        "string = \"hello\"\n",
        "width = 10\n",
        "result = string.rjust(width)\n",
        "print(result)\n",
        "\n",
        "#center()\n",
        "\n",
        "string = \"hello\"\n",
        "width = 10\n",
        "result = string.center(width)\n",
        "print(result)\n"
      ],
      "metadata": {
        "colab": {
          "base_uri": "https://localhost:8080/"
        },
        "id": "8t8K0Kwx9foU",
        "outputId": "35044d86-93cd-4373-f21f-745d49a2adfa"
      },
      "execution_count": 2,
      "outputs": [
        {
          "output_type": "stream",
          "name": "stdout",
          "text": [
            "hello     \n",
            "     hello\n",
            "  hello   \n"
          ]
        }
      ]
    },
    {
      "cell_type": "markdown",
      "source": [
        "10. What is the best way to remove whitespace characters from the start or end?\n",
        "\n",
        "Ans.  The strip() method to remove whitespace characters from the start and/or end of a string.\n",
        "\n"
      ],
      "metadata": {
        "id": "ZOER2sbk2-Hk"
      }
    }
  ]
}