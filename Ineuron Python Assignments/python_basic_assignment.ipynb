{
 "cells": [
  {
   "cell_type": "code",
   "execution_count": null,
   "metadata": {},
   "outputs": [],
   "source": [
    "1. In the below elements which of them are values or an expression? eg:- values can be\n",
    "integer or string and expressions will be mathematical operators.\n",
    "*\n",
    "'hello'\n",
    "-87.8\n",
    "-\n",
    "/\n",
    "+\n",
    "6\n",
    "Ans ==> A Python expression describes a computation, or operation, performed on a data.\n",
    "        It is the basic building block of all programs. It evaluates to a single python value and maybe using several operands.\n",
    "        The above elements have values like 6,'hello',1.1,-87.8 and expression are *,-,/,+ .\n",
    "\n"
   ]
  },
  {
   "cell_type": "code",
   "execution_count": null,
   "metadata": {},
   "outputs": [],
   "source": [
    "2.What is the difference between string and variable?\n",
    "Ans ==> A string is a value representing text and a string is a type of information you would store in a variable.\n",
    "        A string is usually words, enclosed with double quote \"myname\" and single quote 'hello'. \n",
    "        A variable is a name that can refer to any value and we use single = to assign the test to it."
   ]
  },
  {
   "cell_type": "code",
   "execution_count": null,
   "metadata": {},
   "outputs": [],
   "source": [
    "3.Describe three different data types.\n",
    "Ans ==> The three different data types are:\n",
    "    1. List - []  2. dictionary - {} 3. set {} \n",
    "    List are the mutable which is modifiable after creation and are used to store data in a sequential manner and the address is present for every element and is called as 'index'.\n",
    "    Example - [1,2,3,4,6]\n",
    "    Dictionary are the mutable which is modifiable after creation and are used to store data in key value pairs and pairs can be added, accessed, and deleted as needed. \n",
    "    Example - data = {\n",
    "       'first_name':'Nitesh',\n",
    "       'last_name':'Yadav',\n",
    "       'full_name': 'Nitesh Yadav'\n",
    "    }\n",
    "    Set are immutable which means we can't modifiy after creation and are used to store multiple items in a single variable, duplicate values will be ignored.\n",
    "    Example - {\"apple\", \"banana\", \"cherry\"}"
   ]
  },
  {
   "cell_type": "code",
   "execution_count": null,
   "metadata": {},
   "outputs": [],
   "source": [
    "4. What is an expression made up of? What do all expressions do?\n",
    "Ans ==> A combination of operands and operators is called an expression. \n",
    "        The expression in Python produces result after being executed the code.\n",
    "          \n",
    "        Example-\n",
    "        x = 5\n",
    "        y =  x + 10\n",
    "        print(y) ==> 15 #output"
   ]
  },
  {
   "cell_type": "code",
   "execution_count": null,
   "metadata": {},
   "outputs": [],
   "source": [
    "5.This assignment statements, like spam = 10. What is the difference between an\n",
    "   expression and a statement?  "
   ]
  }
 ],
 "metadata": {
  "language_info": {
   "name": "plaintext"
  },
  "orig_nbformat": 4
 },
 "nbformat": 4,
 "nbformat_minor": 2
}
