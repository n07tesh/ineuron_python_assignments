{
  "nbformat": 4,
  "nbformat_minor": 0,
  "metadata": {
    "colab": {
      "provenance": []
    },
    "kernelspec": {
      "name": "python3",
      "display_name": "Python 3"
    },
    "language_info": {
      "name": "python"
    }
  },
  "cells": [
    {
      "cell_type": "markdown",
      "source": [
        "1.What exactly is []?\n",
        "\n",
        "In python the square brackets denoted by list and [] ==> declare the empty list."
      ],
      "metadata": {
        "id": "ER783xGXsdVX"
      }
    },
    {
      "cell_type": "markdown",
      "source": [
        "2.In a list of values stored in a variable called spam, how would you assign the value 'hello' as the third value? (Assume [2, 4, 6, 8, 10] are in spam.)\n",
        "\n",
        "spam = [2, 4, 6, 8, 10]\n",
        "spam[2] = 'hello'\n",
        "print(spam)  # Output: [2, 4, 'hello', 8, 10]\n"
      ],
      "metadata": {
        "id": "8UX8GaEps1OF"
      }
    },
    {
      "cell_type": "markdown",
      "source": [
        "3.What is the value of spam[int(int('3' * 2) / 11)]?\n",
        "\n",
        "Ans [3]"
      ],
      "metadata": {
        "id": "pkML4KPQvbv3"
      }
    },
    {
      "cell_type": "markdown",
      "source": [
        "4.What is the value of spam[-1]?\n",
        "\n",
        "Ans [-1]"
      ],
      "metadata": {
        "id": "1RbxvN1Tv3Ix"
      }
    },
    {
      "cell_type": "markdown",
      "source": [
        "5.What is the value of spam[:2]?\n",
        "\n",
        "Ans [0,1]"
      ],
      "metadata": {
        "id": "m0OWeq0sv_Qg"
      }
    },
    {
      "cell_type": "code",
      "execution_count": null,
      "metadata": {
        "id": "mwF7dRsksQbC"
      },
      "outputs": [],
      "source": [
        "#Let's pretend bacon has the list [3.14, 'cat', 11, 'cat', True] for the next three questions."
      ]
    },
    {
      "cell_type": "markdown",
      "source": [
        "6.What is the value of bacon.index('cat')?\n",
        "\n",
        "The index of cat is 1 \n",
        "\n"
      ],
      "metadata": {
        "id": "FgkfItVexDhK"
      }
    },
    {
      "cell_type": "markdown",
      "source": [
        "7.How does bacon.append(99) change the look of the list value in bacon?\n",
        "\n",
        "Ans. bacon = [3.14, 'cat', 11, 'cat', True,99]\n"
      ],
      "metadata": {
        "id": "YYy4Q29mxXIz"
      }
    },
    {
      "cell_type": "markdown",
      "source": [
        "8.How does bacon.remove('cat') change the look of the list in bacon?\n",
        "\n",
        "Ans. bacon = [3.14, 11, 'cat', True, 99]"
      ],
      "metadata": {
        "id": "33qHxEmAxoBR"
      }
    },
    {
      "cell_type": "markdown",
      "source": [
        "9.What are the list concatenation and list replication operators?\n",
        "\n",
        "In Python, the list concatenation operator is the plus sign (+), and the list replication operator is the asterisk (*) symbol.\n",
        "\n",
        "**list concatenation** \n",
        "\n",
        "list1 = [1, 2, 3]\n",
        "\n",
        "list2 = [4, 5, 6]\n",
        "\n",
        "list3 = list1 + list2\n",
        "\n",
        "print(list3)\n",
        "\n",
        "**list replication**\n",
        "\n",
        "list1 = [1, 2, 3]\n",
        "\n",
        "list2 = list1 * 3\n",
        "\n",
        "print(list2)\n"
      ],
      "metadata": {
        "id": "XW8bdhBHyEkk"
      }
    },
    {
      "cell_type": "markdown",
      "source": [
        "10.What is difference between the list methods append() and insert()?\n",
        "\n",
        "The append() method adds an element to the end of the list. It takes a single argument, which is the element to be added to the list. For example:\n",
        "\n",
        "my_list = [1, 2, 3]\n",
        "\n",
        "my_list.append(4)\n",
        "\n",
        "print(my_list)\n",
        "\n",
        "On the other hand, the insert() method adds an element to a specific position in the list. It takes two arguments: the index at which to insert the element, and the element itself. For example:\n",
        "\n",
        "my_list = [1, 2, 3]\n",
        "\n",
        "my_list.insert(1, 4)\n",
        "\n",
        "print(my_list)"
      ],
      "metadata": {
        "id": "UdKdeP_-zK8g"
      }
    },
    {
      "cell_type": "markdown",
      "source": [
        "11.What are the two methods for removing items from a list?\n",
        "\n",
        "1.The remove() method: This method is used to remove the first occurrence of a specified element from the list. For example, if you have a list my_list and you want to remove the element 'apple', you can use the following code:\n",
        "\n",
        "my_list.remove('apple')\n",
        "\n",
        "2.The pop() method:This method is used to remove an element at a specified index from the list and return the removed element. If you don't specify an index, it will remove and return the last element in the list. For example, if you have a list my_list and you want to remove the element at index 2, you can use the following code:\n",
        "\n",
        "my_list.pop(2)\n",
        "\n",
        "\n"
      ],
      "metadata": {
        "id": "3-qV-K0y0yqS"
      }
    },
    {
      "cell_type": "markdown",
      "source": [
        "12.Describe how list values and string values are identical?\n",
        "\n",
        "1. Lists are mutable\n",
        "2. strings are immutable\n",
        "3. Lists can contain elements of different types.\n",
        "4. string can only contain characters.\n",
        "5. lists are represented using square brackets ([]), while strings are represented using quotes ('' or \"\").\n",
        "\n"
      ],
      "metadata": {
        "id": "z5TZEfWEk-UP"
      }
    },
    {
      "cell_type": "markdown",
      "source": [
        "13.What's the difference between tuples and lists?\n",
        "\n",
        "Lists and Tuples are both sequence data types that can store a collection of objects in python. The objects stored in both sequence can have different data types. Lists represented square brackets ['sara',6,0,19], while tuples are represent with parantheses ('ansh',5,19)."
      ],
      "metadata": {
        "id": "dnfBzYGEx_YD"
      }
    },
    {
      "cell_type": "markdown",
      "source": [
        "14.How do you type a tuple value that only contains the integer 42?\n",
        "\n",
        "Ans my_tuple = (42,)"
      ],
      "metadata": {
        "id": "Z7WQLOgIXRlS"
      }
    },
    {
      "cell_type": "markdown",
      "source": [
        "15.How do you get a list value's tuple form? How do you get a tuple value's list form?\n",
        "\n",
        "Ans To get a list value's tuple form, you can use the tuple() function.\n",
        "    For example: \n",
        "    my_list = [1, 2, 3, 4]\n",
        "    my_tuple = tuple(my_list)\n",
        "    print(my_tuple)  # Output: (1, 2, 3, 4)\n",
        "\n",
        "    To get a tuple value's list form, you can use the list() function.\n",
        "    For example:\n",
        "\n",
        "    my_tuple = (1, 2, 3, 4)\n",
        "    my_list = list(my_tuple)\n",
        "    print(my_list)  # Output: [1, 2, 3, 4]\n"
      ],
      "metadata": {
        "id": "AKXrJzfxbyXT"
      }
    },
    {
      "cell_type": "markdown",
      "source": [
        "16.Variables that \"contain\" list values are not necessarily lists themselves. Instead, what do they contain?\n",
        "\n",
        "This means that the variable is actually an object of the type list, but it contains a reference to the memory location where the list values are stored.\n"
      ],
      "metadata": {
        "id": "unybM43McTvQ"
      }
    },
    {
      "cell_type": "markdown",
      "source": [
        "17.How do you distinguish between copy.copy() and copy.deepcopy()?\n",
        "\n",
        "copy.copy() creates a new object with a new memory address that is a shallow copy of the original object. This means that the new object contains references to the same memory addresses as the original object for all its nested objects up to the first level. However, the nested objects at deeper levels are not shared between the original and copied objects.\n",
        "\n",
        "copy.deepcopy() creates a new object with a new memory address that is a deep copy of the original object. This means that the new object contains new memory addresses for all its nested objects, including those at deeper levels."
      ],
      "metadata": {
        "id": "wcv-HJDEeLnj"
      }
    },
    {
      "cell_type": "code",
      "source": [],
      "metadata": {
        "id": "PuBmGE08w3Sj"
      },
      "execution_count": null,
      "outputs": []
    }
  ]
}