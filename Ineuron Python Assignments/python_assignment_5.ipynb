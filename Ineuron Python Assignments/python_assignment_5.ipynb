{
  "nbformat": 4,
  "nbformat_minor": 0,
  "metadata": {
    "colab": {
      "provenance": []
    },
    "kernelspec": {
      "name": "python3",
      "display_name": "Python 3"
    },
    "language_info": {
      "name": "python"
    }
  },
  "cells": [
    {
      "cell_type": "markdown",
      "source": [
        "1. What does an empty dictionary's code look like?\n",
        "\n",
        "Ans my_dict = {}\n"
      ],
      "metadata": {
        "id": "NlVeUPt58YZG"
      }
    },
    {
      "cell_type": "markdown",
      "source": [
        "2. What is the value of a dictionary value with the key 'foo' and the value 42?\n",
        "\n",
        "Ans my_dict = {'foo' : 42}\n",
        "\n",
        "    value = my_dict['foo']\n",
        "\n",
        "    print(value) \n"
      ],
      "metadata": {
        "id": "rH56vlJ48fyb"
      }
    },
    {
      "cell_type": "markdown",
      "source": [
        "3. What is the most significant distinction between a dictionary and a list?\n",
        "\n",
        " A **dictionary** is an unordered collection of key-value pairs, where each key is unique and associated with a value. In a dictionary, the elements are accessed using their keys, not their positions. Keys can be of any immutable type, such as strings or numbers, while values can be of any type, including lists or other dictionaries. Dictionaries are useful when you want to store data in a way that can be easily looked up by a key.\n",
        "\n",
        "  A **list** is an ordered collection of elements, where each element is identified by its position, or index, in the list. Lists are useful when you want to store an ordered sequence of elements, and you need to access them in a specific order. Unlike dictionaries, lists can contain duplicate elements, and their elements can be of any type."
      ],
      "metadata": {
        "id": "77CmsmFY9D3p"
      }
    },
    {
      "cell_type": "markdown",
      "source": [
        "4. What happens if you try to access spam['foo'] if spam is {'bar': 100}?\n",
        "\n",
        "  Ans spam = {'bar': 100}\n",
        "\n",
        "      value = spam.get('foo')\n",
        "\n",
        "      print(value)\n"
      ],
      "metadata": {
        "id": "cZ7F4hFA91W9"
      }
    },
    {
      "cell_type": "markdown",
      "source": [
        "5. If a dictionary is stored in spam, what is the difference between the expressions 'cat' in spam and 'cat' in spam.keys()?\n",
        "\n",
        "Ans The expression **'cat' in spam checks** whether the key 'cat' exists in the  dictionary spam. If the key exists in spam, the expression evaluates to \n",
        "True; otherwise, it evaluates to False\n",
        "\n",
        "The expression **'cat' in spam.keys()** also checks whether the key 'cat' exists in the dictionary spam. However, in this case, we are explicitly checking whether the key exists in the list of keys returned by the keys() method of the dictionary. If the key exists in the list of keys, the expression evaluates to True; otherwise, it evaluates to False.\n",
        "\n",
        "\n"
      ],
      "metadata": {
        "id": "bXmQHmDH-TQT"
      }
    },
    {
      "cell_type": "markdown",
      "source": [
        "6. If a dictionary is stored in spam, what is the difference between the expressions 'cat' in spam and 'cat' in spam.values()?\n",
        "\n",
        "The expression **'cat' in spam checks** whether the key 'cat' exists in the dictionary spam. If the key exists in spam, the expression evaluates to True; otherwise, it evaluates to False.\n",
        "\n",
        "The expression 'cat' in spam.values() checks if the string 'cat' is a value in the dictionary spam. If 'cat' is a value in spam, the expression evaluates to True; otherwise, it evaluates to False."
      ],
      "metadata": {
        "id": "LDrVUrR9_psz"
      }
    },
    {
      "cell_type": "markdown",
      "source": [
        "7. What is a shortcut for the following code?\n",
        "if 'color' not in spam:\n",
        "spam['color'] = 'black'\n",
        "\n",
        "Ans if 'color' not in spam.keys():\n",
        "         spam['color'] = 'black'\n",
        "         \n",
        "        \n",
        "      "
      ],
      "metadata": {
        "id": "-LQWdcQZ9xdz"
      }
    },
    {
      "cell_type": "markdown",
      "source": [
        "8. How do you \"pretty print\" dictionary values using which module and function?\n",
        "\n",
        " The python provides the pprint() function to print a dictionary in a well-formatted and easy-to-read way.\n",
        "\n",
        " import pprint\n",
        "\n",
        "  spam = {'name': 'Alice', 'age': 25, 'hobbies': ['reading', 'swimming', 'hiking']}\n",
        "  \n",
        "  pprint.pprint(spam)\n",
        "\n"
      ],
      "metadata": {
        "id": "HCkxqMTQA_oY"
      }
    },
    {
      "cell_type": "code",
      "execution_count": null,
      "metadata": {
        "id": "wlAIxtfj7_r0"
      },
      "outputs": [],
      "source": []
    }
  ]
}