{
  "nbformat": 4,
  "nbformat_minor": 0,
  "metadata": {
    "colab": {
      "provenance": []
    },
    "kernelspec": {
      "name": "python3",
      "display_name": "Python 3"
    },
    "language_info": {
      "name": "python"
    }
  },
  "cells": [
    {
      "cell_type": "markdown",
      "source": [
        "1.Why are functions advantageous to have in your programs?\n",
        "\n",
        "**Reusability**: Functions can be called multiple times within a program, making it easy to reuse code without having to rewrite the same logic repeatedly. This can save time and reduce errors, making code more efficient and easier to maintain.\n",
        "\n",
        "**Modularity**: Functions allow you to break down a large program into smaller, more manageable pieces. This makes it easier to read and understand the code, and to make changes or additions as needed.\n",
        "\n",
        "**Encapsulation**: Functions can be used to encapsulate complex logic, making it easier to understand and use. This can help to reduce errors and improve the overall quality of the code.\n",
        "\n",
        "**Abstraction**: Functions can be used to abstract away implementation details, allowing you to focus on the high-level logic of a program. This can make it easier to reason about the code and to make changes without affecting other parts of the program.\n",
        "\n",
        "**Testing**: Functions can be tested in isolation, making it easier to identify and fix bugs. This can also help to improve the overall quality and reliability of the program."
      ],
      "metadata": {
        "id": "teNUcEBqaI_f"
      }
    },
    {
      "cell_type": "markdown",
      "source": [
        "2.When does the code in a function run: when it's specified or when it's called?\n",
        "\n",
        "The code in a function runs when it is called, not when it is specified. When you define a function, you are essentially creating a blueprint for a specific set of instructions that can be executed later. The code inside the function is not executed until the function is actually called in the program."
      ],
      "metadata": {
        "id": "HKZ-W1Cfa8LF"
      }
    },
    {
      "cell_type": "markdown",
      "source": [
        "3.What statement creates a function?\n",
        "\n",
        "The \"def\" statement is used to create a function in Python.\n",
        "example : def fun_name(parameter):\n",
        "\n",
        "                return\n"
      ],
      "metadata": {
        "id": "ClHrFOfUcRSz"
      }
    },
    {
      "cell_type": "markdown",
      "source": [
        "4. What is the difference between a function and a function call?\n",
        "\n",
        "A function is a block of reusable code that performs a specific task. It is a self-contained unit of code that can take inputs (also called parameters) and optionally return outputs. Functions are defined using the \"def\" statement in Python.\n",
        "\n",
        "A function call, on the other hand, is an instruction to execute a particular function with specific arguments (inputs). It is the process of invoking or running the code inside the function. When a function is called, the program passes the specified arguments to the function, and the function performs its task using those arguments. Once the function has finished executing, it can return a value (output) back to the calling code."
      ],
      "metadata": {
        "id": "gpe_7naRc3El"
      }
    },
    {
      "cell_type": "markdown",
      "source": [
        "5. How many global scopes are there in a Python program? How many local scopes?\n",
        "\n",
        "In Python, there is only one global scope per program, and any variables defined at the top level of a program, outside of any functions or classes, are considered to be in the global scope.\n",
        "\n",
        "local scopes are created whenever a function is called, and any variables defined inside that function are considered to be in the local scope. Each function call creates a new local scope, and any variables defined inside that function are only accessible within that function, unless they are explicitly returned or declared global.\n"
      ],
      "metadata": {
        "id": "A-UzYYxvdk7w"
      }
    },
    {
      "cell_type": "markdown",
      "source": [
        "6.What happens to variables in a local scope when the function call returns?\n",
        "\n",
        "When a function call returns, the local scope of that function is destroyed, and any variables defined within that local scope are also destroyed. This means that the variables defined within a function are only accessible within that function's local scope, and once the function returns, those variables are no longer available.\n",
        "\n",
        "def my_function():\n",
        "    x = 10\n",
        "    print(\"x within the function:\", x)\n",
        "\n",
        "my_function()\n",
        "\n",
        "'''This line will cause an error because x is not defined in the global scope'''\n",
        "\n",
        "print(\"x outside the function:\", x)\n",
        "\n",
        "In this example, x is defined within the local scope of the my_function() function, and is only accessible within that function. When the function returns, the local scope is destroyed, and x is no longer available. Attempting to access x outside of the function will result in a NameError, because the variable has not been defined in the global scope.\n",
        "\n",
        "It's worth noting that if a variable is defined in both the local and global scopes with the same name, the local variable takes precedence within the function. However, the global variable remains unchanged and can still be accessed outside of the function.\n"
      ],
      "metadata": {
        "id": "SXg5t62Xr3pH"
      }
    },
    {
      "cell_type": "markdown",
      "source": [
        "7. What is the concept of a return value? Is it possible to have a return value in an expression?\n",
        "\n",
        "In Python, a return value is the output of a function after it has finished executing. When a function is called, it may take inputs (arguments), perform some operation, and then return a value to the caller. The return value can be of any data type, such as a number, a string, a list, or even another function.\n",
        "\n",
        "The concept of a return value is important because it allows the result of a function to be used in other parts of the code. For example, if you have a function that calculates the area of a circle, you might want to use the result of that calculation in another part of your program. By returning the calculated value from the function, you can store it in a variable or use it in another expression.\n",
        "\n",
        "It is possible to have a return value in an expression in Python. In fact, it's quite common to use functions as part of larger expressions. For example:\n",
        "\n",
        "#### Define a function that calculates the area of a circle\n",
        "def circle_area(radius):\n",
        "    return 3.14 * radius ** 2\n",
        "\n",
        "#### Calculate the area of a circle with radius 5 and add 10 to the result\n",
        "result = circle_area(5) + 10\n",
        "\n",
        "#### Print the result\n",
        "print(result)\n",
        "\n",
        "In this example, the circle_area() function returns the calculated area of a circle based on the given radius. The result variable then uses that value in an expression, adding 10 to the result. The final output of the program is the value of result, which is the area of the circle plus 10.\n",
        "\n",
        "So, yes, it is possible to have a return value in an expression in Python, and this is a common practice when using functions in larger expressions or calculations.\n",
        "\n"
      ],
      "metadata": {
        "id": "Ibx9wx4atQOu"
      }
    },
    {
      "cell_type": "markdown",
      "source": [
        "8.If a function does not have a return statement, what is the return value of a call to that function?\n",
        "\n",
        "If a function does not have a return statement, the return value of a call to that function is None.\n",
        "\n",
        "In Python, if a function reaches the end of its block of code without encountering a return statement, it will automatically return None. For example, consider the following function:\n",
        "\n",
        "\n",
        "def my_function():\n",
        "    print(\"Hello, world!\")\n",
        "This function does not have a return statement, so if we call it like this:\n",
        "\n",
        "result = my_function()\n",
        "The value of result will be None.\n",
        "\n",
        "It's important to note that a function without a return statement can still perform useful operations, such as printing output or modifying data structures. However, if you need the result of a function for further processing or calculations, you must include a return statement in the function to explicitly specify the return value.\n",
        "\n",
        "\n",
        "\n",
        "\n"
      ],
      "metadata": {
        "id": "RH5YmEhVtzXg"
      }
    },
    {
      "cell_type": "markdown",
      "source": [
        "9. How do you make a function variable refer to the global variable?\n",
        "\n",
        "In Python, if you want to use a global variable within a function, you can use the global keyword to indicate that the variable should refer to the global variable with the same name.\n",
        "\n",
        "For example, consider the following code:\n",
        "\n",
        "\n",
        "x = 10  # global variable\n",
        "\n",
        "def my_function():\n",
        "    global x\n",
        "    x = 5\n",
        "    print(\"x within the function:\", x)\n",
        "\n",
        "my_function()\n",
        "\n",
        "print(\"x outside the function:\", x)\n",
        "In this example, the global keyword is used within the function to indicate that x should refer to the global variable with the same name. Without the global keyword, Python would create a new local variable named x within the function, which would not affect the value of the global variable.\n",
        "\n",
        "By using the global keyword, the my_function() function is able to modify the value of the global variable x. After calling the function, the value of x has changed from 10 to 5, and this new value is visible outside of the function as well.\n",
        "\n",
        "It's worth noting that using global variables can sometimes lead to confusing or hard-to-debug code, so it's generally recommended to avoid them if possible. Instead, you can pass variables as arguments to functions, or use object-oriented programming techniques to encapsulate data within classes.\n",
        "\n",
        "\n",
        "\n",
        "\n",
        "\n",
        "\n",
        "\n"
      ],
      "metadata": {
        "id": "fVXn7IkjuctL"
      }
    },
    {
      "cell_type": "markdown",
      "source": [
        "10. What is the data type of None?\n",
        "\n",
        "In Python, None is a special keyword that represents the absence of a value. It is often used to indicate that a variable or function does not have a meaningful result or output.\n",
        "\n",
        "None is of the NoneType data type, which is a built-in data type in Python. This data type has only one possible value, which is None.\n",
        "\n",
        "You can check the data type of None using the type() function, like this:\n",
        "\n",
        "x = None\n",
        "print(type(x))  # outputs: <class 'NoneType'>\n",
        "\n",
        "In Python, None is often used as a default value for function arguments or as a placeholder value when a value is not yet available.\n"
      ],
      "metadata": {
        "id": "aih-04SAu6IP"
      }
    },
    {
      "cell_type": "markdown",
      "source": [
        "11. What does the sentence import areallyourpetsnamederic do?\n"
      ],
      "metadata": {
        "id": "yz9ry5sivJk_"
      }
    },
    {
      "cell_type": "markdown",
      "source": [
        "12. If you had a bacon() feature in a spam module, what would you call it after importing spam?\n",
        "\n",
        "If you had a bacon() function in a spam module, you could call it after importing spam by using the dot notation to access the function within the module.\n",
        "\n",
        "For example, if the spam module containing the bacon() function was saved in a file called spam.py, you could import the module and call the bacon() function like this:\n",
        "\n",
        "arduino\n",
        "Copy code\n",
        "import spam\n",
        "\n",
        "spam.bacon()\n",
        "In this code, the import spam statement loads the spam module into the current namespace, making all the functions and variables defined in the module available for use.\n",
        "\n",
        "The spam.bacon() statement then calls the bacon() function within the spam module using the dot notation to specify the function within the module. This allows you to call the bacon() function as spam.bacon() instead of just bacon(), which could be ambiguous if there were multiple functions with the same name in different modules.\n"
      ],
      "metadata": {
        "id": "pP9pXN78vjrN"
      }
    },
    {
      "cell_type": "markdown",
      "source": [
        "13. What can you do to save a programme from crashing if it encounters an error?\n",
        "\n",
        "There are several strategies you can use to save a program from crashing if it encounters an error in Python:\n",
        "\n",
        "1.Use exception handling\n",
        "\n",
        "2.Validate input\n",
        "\n",
        "3.Use default values\n",
        "\n",
        "4.Use logging"
      ],
      "metadata": {
        "id": "oUKmcv1tvra9"
      }
    },
    {
      "cell_type": "markdown",
      "source": [
        "14.What is the purpose of the try clause? What is the purpose of the except clause?\n",
        "\n",
        "The try...except block is a feature in Python that allows you to catch and handle exceptions that might occur in your code. The try clause is used to enclose a block of code that might raise an exception, while the except clause is used to handle the exception if it occurs.\n",
        "\n",
        "Example: \n",
        "\n",
        "try:\n",
        "\n",
        "    x = int(input(\"Enter a number: \"))\n",
        "\n",
        "except ValueError:\n",
        "\n",
        "    print(\"Invalid input. Please enter a valid number.\")\n"
      ],
      "metadata": {
        "id": "32wRCKqrwVYk"
      }
    }
  ]
}