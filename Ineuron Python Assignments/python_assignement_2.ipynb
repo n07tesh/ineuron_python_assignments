{
  "nbformat": 4,
  "nbformat_minor": 0,
  "metadata": {
    "colab": {
      "provenance": []
    },
    "kernelspec": {
      "name": "python3",
      "display_name": "Python 3"
    },
    "language_info": {
      "name": "python"
    }
  },
  "cells": [
    {
      "cell_type": "markdown",
      "source": [
        "1.What are the two values of the Boolean data type? How do you write them?\n",
        "\n",
        "Ans True and False\n"
      ],
      "metadata": {
        "id": "ywdSJNr4QuZO"
      }
    },
    {
      "cell_type": "markdown",
      "source": [
        "2. What are the three different types of Boolean operators?\n",
        "\n",
        " Ans  AND, OR, and NOT"
      ],
      "metadata": {
        "id": "rRuHHIhtQrgK"
      }
    },
    {
      "cell_type": "markdown",
      "source": [
        "3.Make a list of each Boolean operator's truth tables (i.e. every possible combination of Boolean values for the operator and what it evaluate ).\n",
        "\n",
        "Ans"
      ],
      "metadata": {
        "id": "32BZBNDrRpwD"
      }
    },
    {
      "cell_type": "markdown",
      "source": [
        "4. What are the values of the following expressions?\n",
        "\n",
        "Ans 1.(5 > 4) and (3 == 5) ==> False\n",
        "\n",
        "    2.not (5 > 4) ==> False\n",
        "\n",
        "    3.(5 > 4) or (3 == 5) ==> True\n",
        "\n",
        "    4.not ((5 > 4) or (3 == 5)) ==> False\n",
        "\n",
        "    5.(True and True) and (True == False) == False\n",
        "    \n",
        "    6.(not False) or (not True) ==> True\n"
      ],
      "metadata": {
        "id": "NbWMbHiwU7Pz"
      }
    },
    {
      "cell_type": "markdown",
      "source": [
        " 5. What are the six comparison operators?\n",
        "\n",
        " Ans The six operator are as follows:\n",
        "    1. greater than\n",
        "    2. less than\n",
        "    3. greater than or equal to\n",
        "    4. less than equal or to \n",
        "    5. equal to\n",
        "    6. not equal to"
      ],
      "metadata": {
        "id": "beabGChljJxr"
      }
    },
    {
      "cell_type": "markdown",
      "source": [
        "6. How do you tell the difference between the equal to and assignment operators?Describe a condition and when you would use one.\n",
        "\n",
        "Ans Assignment operator are used to assign value to a variable and equal to is also a assignment operator but '=' operator is used to assign the value on right to the variable on the left.\n",
        "example ==> a=10;\n",
        "\n",
        "some assignment operator are 🔽\n",
        "\n",
        "\n",
        "1.   '=' ==> (a=10)\n",
        "2.   '+=' ==> (a+=b)\n",
        "3.   '-=' ==> (a-=b)\n",
        "4.   '*=' ==> (a*=b)\n",
        "5    '/=' ==> (a/b)\n",
        "\n",
        " example: a=10\n",
        "          a+=10\n",
        "          print(a) ==> #20 output\n",
        "\n",
        "\n",
        "\n"
      ],
      "metadata": {
        "id": "OGjqKoDvq2iI"
      }
    },
    {
      "cell_type": "markdown",
      "source": [
        "7. Identify the three blocks in this code:\n",
        "spam = 0\n",
        "\n",
        "if spam == 10:\n",
        "\n",
        "     print('eggs')\n",
        "\n",
        "if spam > 5:\n",
        "\n",
        "     print('bacon')\n",
        "\n",
        "else:\n",
        "\n",
        "print('ham')\n",
        "\n",
        "print('spam')\n",
        "\n",
        "print('spam')\n",
        "\n",
        "Ans . As per the identify all the three blocks have the Indentation Error and if doc format typing error than the below code will defines the each every block of code.\n",
        " \n",
        " first block- defines the comparison operator in which spam is comparing with 10.\n",
        "\n",
        " second block- uses the greater than operator in which user checking the if spam is greater than 5 and in case of its returns True then it will print('bacon')\n",
        "\n",
        " Third block-code excutes when the if condition returns the false and it print\n",
        " ham,spam,spam\n",
        "\n",
        "\n"
      ],
      "metadata": {
        "id": "KF4lm_7KwVZE"
      }
    },
    {
      "cell_type": "code",
      "source": [
        "#8. Write code that prints Hello if 1 is stored in spam, prints Howdy if 2 is stored in spam, and prints Greetings! if anything else is stored in spam.\n",
        "spam = 1\n",
        "if spam == 1:\n",
        "  print('Hello')\n",
        "elif spam == 2:\n",
        "  print('Howdy')\n",
        "else:\n",
        "  print('Greetings!')"
      ],
      "metadata": {
        "id": "gvMFVP80RcDC",
        "colab": {
          "base_uri": "https://localhost:8080/"
        },
        "outputId": "3dbee1cf-6426-4353-ae78-06fa9ca1711b"
      },
      "execution_count": 2,
      "outputs": [
        {
          "output_type": "stream",
          "name": "stdout",
          "text": [
            "Hello\n"
          ]
        }
      ]
    },
    {
      "cell_type": "markdown",
      "source": [
        "9.If your programme is stuck in an endless loop, what keys you’ll press?\n",
        "\n",
        "Ans ctrl + c"
      ],
      "metadata": {
        "id": "v6aqAlQe2IAU"
      }
    },
    {
      "cell_type": "markdown",
      "source": [
        "10. How can you tell the difference between break and continue?\n",
        "\n",
        "Ans Break ==> The break statement terminates the loop and the control flows to the statement after the body of the loop.\n",
        "\n",
        "  Continue ==> The continue statement terminates the current iteration of the statement,skips the code in current iternation and the control flows to the next iteration of the loop.\n",
        "   "
      ],
      "metadata": {
        "id": "_2qeIwDK2VvK"
      }
    },
    {
      "cell_type": "markdown",
      "source": [
        "11. In a for loop, what is the difference between range(10), range(0, 10), and range(0, 10, 1)?\n",
        "\n",
        "Ans. range(10) ==> The range starts from zero due to range() function gives the series of number which is start from zero if not define the start number.\n",
        "   \n",
        "   range(0,10) ==> In this range function we can decide from where we have to start the range starts from zero and stops at 10.\n",
        "\n",
        "   range(0,10,1) ==>In this range function we can decide the start,stop,step "
      ],
      "metadata": {
        "id": "7F0oNTNS5NrC"
      }
    },
    {
      "cell_type": "code",
      "source": [
        "for i in range(10):\n",
        "  print('range(10) ==> ',i)"
      ],
      "metadata": {
        "id": "LWRXHpv6Vd6l",
        "colab": {
          "base_uri": "https://localhost:8080/"
        },
        "outputId": "51aae4d5-209e-42c1-b06c-8fc3a6277232"
      },
      "execution_count": 7,
      "outputs": [
        {
          "output_type": "stream",
          "name": "stdout",
          "text": [
            "range(10) ==>  0\n",
            "range(10) ==>  1\n",
            "range(10) ==>  2\n",
            "range(10) ==>  3\n",
            "range(10) ==>  4\n",
            "range(10) ==>  5\n",
            "range(10) ==>  6\n",
            "range(10) ==>  7\n",
            "range(10) ==>  8\n",
            "range(10) ==>  9\n"
          ]
        }
      ]
    },
    {
      "cell_type": "code",
      "source": [
        "for i in range(2,10):\n",
        "  print('range(10) ==>',i)"
      ],
      "metadata": {
        "colab": {
          "base_uri": "https://localhost:8080/"
        },
        "id": "beym-81k7xJO",
        "outputId": "88ca1af5-3579-4376-e70e-d23467efefdf"
      },
      "execution_count": 8,
      "outputs": [
        {
          "output_type": "stream",
          "name": "stdout",
          "text": [
            "range(10 ==> 2\n",
            "range(10 ==> 3\n",
            "range(10 ==> 4\n",
            "range(10 ==> 5\n",
            "range(10 ==> 6\n",
            "range(10 ==> 7\n",
            "range(10 ==> 8\n",
            "range(10 ==> 9\n"
          ]
        }
      ]
    },
    {
      "cell_type": "code",
      "source": [
        "for i in range(0,10,2):\n",
        "  print('range(0,10,2) ==>',i)"
      ],
      "metadata": {
        "colab": {
          "base_uri": "https://localhost:8080/"
        },
        "id": "blhMHbJa8Lxx",
        "outputId": "7ec09181-7a22-440a-e678-3729c87cb483"
      },
      "execution_count": 9,
      "outputs": [
        {
          "output_type": "stream",
          "name": "stdout",
          "text": [
            "range(0,10,2) ==> 0\n",
            "range(0,10,2) ==> 2\n",
            "range(0,10,2) ==> 4\n",
            "range(0,10,2) ==> 6\n",
            "range(0,10,2) ==> 8\n"
          ]
        }
      ]
    },
    {
      "cell_type": "markdown",
      "source": [
        "12. Write a short program that prints the numbers 1 to 10 using a for loop. Then write an equivalent program that prints the numbers 1 to 10 using a while loop."
      ],
      "metadata": {
        "id": "ATRcnlSe8mWW"
      }
    },
    {
      "cell_type": "code",
      "source": [
        "# for loop\n",
        "for i in range(1,11):\n",
        "  print(i)"
      ],
      "metadata": {
        "colab": {
          "base_uri": "https://localhost:8080/"
        },
        "id": "hqGO0aT98ZlI",
        "outputId": "9262771a-45f3-4a07-db5d-d37bde4e8fa1"
      },
      "execution_count": 10,
      "outputs": [
        {
          "output_type": "stream",
          "name": "stdout",
          "text": [
            "1\n",
            "2\n",
            "3\n",
            "4\n",
            "5\n",
            "6\n",
            "7\n",
            "8\n",
            "9\n",
            "10\n"
          ]
        }
      ]
    },
    {
      "cell_type": "code",
      "source": [
        "# while loop\n",
        "i=1\n",
        "while i <=10:\n",
        "  print(i)\n",
        "  i+=1"
      ],
      "metadata": {
        "colab": {
          "base_uri": "https://localhost:8080/"
        },
        "id": "gmHCbWyg8xpf",
        "outputId": "a262bb24-511e-45dc-fb0b-01e1349763ff"
      },
      "execution_count": 16,
      "outputs": [
        {
          "output_type": "stream",
          "name": "stdout",
          "text": [
            "1\n",
            "2\n",
            "3\n",
            "4\n",
            "5\n",
            "6\n",
            "7\n",
            "8\n",
            "9\n",
            "10\n"
          ]
        }
      ]
    },
    {
      "cell_type": "markdown",
      "source": [
        "13. If you had a function named bacon() inside a module named spam, how would you call it after importing spam?\n",
        "\n",
        "Ans import spam\n",
        "\n",
        "    spam.bacon"
      ],
      "metadata": {
        "id": "rbVDeWYS-V0p"
      }
    },
    {
      "cell_type": "code",
      "source": [],
      "metadata": {
        "id": "Fv8CJF4P9L5t"
      },
      "execution_count": 16,
      "outputs": []
    },
    {
      "cell_type": "code",
      "source": [],
      "metadata": {
        "id": "bkNhFQYA-CHp"
      },
      "execution_count": null,
      "outputs": []
    }
  ]
}