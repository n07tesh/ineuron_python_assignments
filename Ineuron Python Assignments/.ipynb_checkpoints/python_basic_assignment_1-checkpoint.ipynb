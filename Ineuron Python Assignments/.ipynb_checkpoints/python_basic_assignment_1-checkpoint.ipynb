{
 "cells": [
  {
   "cell_type": "raw",
   "metadata": {},
   "source": [
    "1. In the below elements which of them are values or an expression? eg:- values can be\n",
    "integer or string and expressions will be mathematical operators.\n",
    "*\n",
    "'hello'\n",
    "-87.8\n",
    "-\n",
    "/\n",
    "+\n",
    "6\n",
    "Ans ==> A Python expression describes a computation, or operation, performed on a data.\n",
    "        It is the basic building block of all programs. It evaluates to a single python value and maybe using several operands.\n",
    "        The above elements have values like 6,'hello',1.1,-87.8 and expression are *,-,/,+ .\n",
    "\n"
   ]
  },
  {
   "cell_type": "raw",
   "metadata": {},
   "source": [
    "2.What is the difference between string and variable?\n",
    "Ans ==> A string is a value representing text and a string is a type of information you would store in a variable.\n",
    "        A string is usually words, enclosed with double quote \"myname\" and single quote 'hello'. \n",
    "        A variable is a name that can refer to any value and we use single = to assign the test to it.\n",
    "        "
   ]
  },
  {
   "cell_type": "raw",
   "metadata": {},
   "source": [
    "3.Describe three different data types.\n",
    "Ans ==> The three different data types are:\n",
    "    1. List - []  2. dictionary - {} 3. set {} \n",
    "    List are the mutable which is modifiable after creation and are used to store data in a sequential manner and the address        is present for every element and is called as 'index'.\n",
    "       Example - [1,2,3,4,6]\n",
    "    Dictionary are the mutable which is modifiable after creation and are used to store data in key value pairs and pairs can be     added, accessed, and deleted as needed. \n",
    "    Example - data = {\n",
    "       'first_name':'Nitesh',\n",
    "       'last_name':'Yadav',\n",
    "       'full_name': 'Nitesh Yadav'\n",
    "    }\n",
    "    Set are immutable which means we can't modifiy after creation and are used to store multiple items in a single variable,         duplicate values will be ignored.\n",
    "    Example - {\"apple\", \"banana\", \"cherry\"}"
   ]
  },
  {
   "cell_type": "raw",
   "metadata": {
    "tags": [
     "parameters"
    ]
   },
   "source": [
    "4. What is an expression made up of? What do all expressions do?\n",
    "Ans ==> A combination of operands and operators is called an expression. \n",
    "        The expression in Python produces result after being executed the code.\n",
    "          \n",
    "        Example-\n",
    "        x = 5\n",
    "        y =  x + 10\n",
    "        print(y) ==> 15 #output"
   ]
  },
  {
   "cell_type": "markdown",
   "metadata": {},
   "source": [
    "5.This assignment statements, like spam = 10. What is the difference between an\n",
    "   expression and a statement?\n",
    "   The most common difference is that a statement does somethind and an expression evaluates to a value.\n",
    "   x + 2 # expression\n",
    "   x = 1 # statement"
   ]
  },
  {
   "cell_type": "markdown",
   "metadata": {},
   "source": [
    "6. After running the following code, what does the variable bacon contain?\n",
    "   bacon = 22\n",
    "   bacon + 1\n",
    "   "
   ]
  },
  {
   "cell_type": "code",
   "execution_count": null,
   "metadata": {},
   "outputs": [
    {
     "ename": "",
     "evalue": "",
     "output_type": "error",
     "traceback": [
      "\u001b[1;31mRunning cells with 'c:\\Users\\Asus\\AppData\\Local\\Programs\\Python\\Python310\\python.exe' requires ipykernel package.\n",
      "\u001b[1;31mRun the following command to install 'ipykernel' into the Python environment. \n",
      "\u001b[1;31mCommand: 'c:/Users/Asus/AppData/Local/Programs/Python/Python310/python.exe -m pip install ipykernel -U --user --force-reinstall'"
     ]
    }
   ],
   "source": [
    "x = 2\n",
    "x+=1\n",
    "print(x)"
   ]
  },
  {
   "cell_type": "code",
   "execution_count": null,
   "metadata": {},
   "outputs": [],
   "source": []
  }
 ],
 "metadata": {
  "kernelspec": {
   "display_name": "Python 3 (ipykernel)",
   "language": "python",
   "name": "python3"
  },
  "language_info": {
   "codemirror_mode": {
    "name": "ipython",
    "version": 3
   },
   "file_extension": ".py",
   "mimetype": "text/x-python",
   "name": "python",
   "nbconvert_exporter": "python",
   "pygments_lexer": "ipython3",
   "version": "3.9.7"
  },
  "vscode": {
   "interpreter": {
    "hash": "107d7b120a5b68773a87d4067e673630b35702e55ebab3138143d08b1c4d7cbc"
   }
  }
 },
 "nbformat": 4,
 "nbformat_minor": 2
}
