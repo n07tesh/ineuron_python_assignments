{
 "cells": [
  {
   "cell_type": "code",
   "execution_count": null,
   "metadata": {},
   "outputs": [],
   "source": [
    "1. In the below elements which of them are values or an expression? eg:- values can be\n",
    "integer or string and expressions will be mathematical operators.\n",
    "*\n",
    "'hello'\n",
    "-87.8\n",
    "-\n",
    "/\n",
    "+\n",
    "6\n",
    "Ans ==> A Python expression describes a computation, or operation, performed on a data.\n",
    "        It is the basic building block of all programs. It evaluates to a single python value and maybe using several operands.\n",
    "        The above elements have values like 6,'hello',1.1,-87.8 and expression are *,-,/,+ .\n",
    "\n"
   ]
  },
  {
   "cell_type": "code",
   "execution_count": null,
   "metadata": {},
   "outputs": [],
   "source": [
    "2.What is the difference between string and variable?\n",
    "Ans ==> A string is a value representing text and a string is a type of information you would store in a variable.\n",
    "        A string is usually words, enclosed with double quote \"myname\" and single quote 'hello'. \n",
    "        A variable is a name that can refer to any value and we use single = to assign the test to it.\n",
    "        "
   ]
  },
  {
   "cell_type": "code",
   "execution_count": null,
   "metadata": {},
   "outputs": [],
   "source": [
    "3.Describe three different data types.\n",
    "Ans ==> The three different data types are:\n",
    "    1. List - []  2. dictionary - {} 3. set {} \n",
    "    List are the mutable which is modifiable after creation and are used to store data in a sequential manner and the address        is present for every element and is called as 'index'.\n",
    "       Example - [1,2,3,4,6]\n",
    "    Dictionary are the mutable which is modifiable after creation and are used to store data in key value pairs and pairs can be     added, accessed, and deleted as needed. \n",
    "    Example - data = {\n",
    "       'first_name':'Nitesh',\n",
    "       'last_name':'Yadav',\n",
    "       'full_name': 'Nitesh Yadav'\n",
    "    }\n",
    "    Set are immutable which means we can't modifiy after creation and are used to store multiple items in a single variable,         duplicate values will be ignored.\n",
    "    Example - {\"apple\", \"banana\", \"cherry\"}"
   ]
  },
  {
   "cell_type": "code",
   "execution_count": null,
   "metadata": {
    "tags": [
     "parameters"
    ]
   },
   "outputs": [],
   "source": [
    "4. What is an expression made up of? What do all expressions do?\n",
    "Ans ==> A combination of operands and operators is called an expression. \n",
    "        The expression in Python produces result after being executed the code.\n",
    "          \n",
    "        Example-\n",
    "        x = 5\n",
    "        y =  x + 10\n",
    "        print(y) ==> 15 #output"
   ]
  },
  {
   "cell_type": "code",
   "execution_count": null,
   "metadata": {},
   "outputs": [],
   "source": [
    "5.This assignment statements, like spam = 10. What is the difference between an\n",
    "   expression and a statement?\n",
    "Ans ==>The most common difference is that a statement does somethind and an expression evaluates to a value.\n",
    "   x + 2 # expression\n",
    "   x = 1 # statement"
   ]
  },
  {
   "cell_type": "code",
   "execution_count": null,
   "metadata": {},
   "outputs": [],
   "source": [
    "6. After running the following code, what does the variable bacon contain?\n",
    "   bacon = 22\n",
    "   bacon + 1\n",
    "Ans ==>  bacon = 23 # output\n",
    "   "
   ]
  },
  {
   "cell_type": "code",
   "execution_count": null,
   "metadata": {},
   "outputs": [],
   "source": [
    "7. What should the values of the following two terms be?\n",
    "   'spam'+'spamspam' ==> spamspamspam #output\n",
    "   'spam' * 3 ==> spamspamspam #output"
   ]
  },
  {
   "cell_type": "code",
   "execution_count": null,
   "metadata": {},
   "outputs": [],
   "source": [
    "8.Why is eggs a valid variable name while 100 is invalid?\n",
    "Ans. Because variable name have there own property which is variable name always start with alpha char or underscore char."
   ]
  },
  {
   "cell_type": "code",
   "execution_count": null,
   "metadata": {},
   "outputs": [],
   "source": [
    "9. What three functions can be used to get the integer, floating-point number, or string\n",
    "   version of a value?\n",
    "    1. int()\n",
    "    2. float()\n",
    "    3. str()\n",
    "   "
   ]
  },
  {
   "cell_type": "code",
   "execution_count": null,
   "metadata": {},
   "outputs": [],
   "source": [
    "10. Why does this expression cause an error? How can you fix it?\n",
    "    'I have eaten' + 99 + 'burritos'\n",
    "Ans ==> Due to typeError in expression we can only concatenate string and we convert the int value into str(99) like --> 'I have eaten' + str(99) + 'burritos "
   ]
  }
 ],
 "metadata": {
  "kernelspec": {
   "display_name": "Python 3 (ipykernel)",
   "language": "python",
   "name": "python3"
  },
  "language_info": {
   "codemirror_mode": {
    "name": "ipython",
    "version": 3
   },
   "file_extension": ".py",
   "mimetype": "text/x-python",
   "name": "python",
   "nbconvert_exporter": "python",
   "pygments_lexer": "ipython3",
   "version": "3.9.7"
  },
  "vscode": {
   "interpreter": {
    "hash": "107d7b120a5b68773a87d4067e673630b35702e55ebab3138143d08b1c4d7cbc"
   }
  }
 },
 "nbformat": 4,
 "nbformat_minor": 2
}
